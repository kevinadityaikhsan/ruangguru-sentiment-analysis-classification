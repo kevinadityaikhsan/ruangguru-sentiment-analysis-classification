{
  "cells": [
    {
      "cell_type": "markdown",
      "metadata": {
        "id": "h9YiR1GA5Qwt"
      },
      "source": [
        "# **Test Best Model Performance with New Dataset: ruangguru's Clash of Champions Episodes 4**"
      ]
    },
    {
      "cell_type": "markdown",
      "metadata": {
        "id": "xljaCZ-x6rAx"
      },
      "source": [
        "## **1. Import Library**"
      ]
    },
    {
      "cell_type": "code",
      "execution_count": 11,
      "metadata": {
        "id": "IzSblalU6wvv"
      },
      "outputs": [],
      "source": [
        "import pandas as pd\n",
        "pd.set_option('display.max_colwidth', None)\n",
        "import numpy as np\n",
        "import matplotlib.pyplot as plt\n",
        "import seaborn as sns\n",
        "\n",
        "import re\n",
        "import string\n",
        "import csv\n",
        "import requests\n",
        "import unicodedata\n",
        "import json\n",
        "import os\n",
        "import joblib\n",
        "\n",
        "from io import StringIO, BytesIO\n",
        "\n",
        "from nltk.tokenize import word_tokenize\n",
        "from nltk.corpus import stopwords\n",
        "from nltk.stem import PorterStemmer\n",
        "\n",
        "from wordcloud import WordCloud\n",
        "\n",
        "from sklearn.feature_extraction.text import TfidfVectorizer\n",
        "from sklearn.model_selection import train_test_split\n",
        "from sklearn.linear_model import LogisticRegression\n",
        "from sklearn.metrics import accuracy_score, classification_report, confusion_matrix\n",
        "from sklearn.neural_network import MLPClassifier\n",
        "from sklearn.preprocessing import LabelEncoder\n",
        "\n",
        "import tensorflow as tf\n",
        "from tensorflow.keras.preprocessing.text import Tokenizer\n",
        "from keras.preprocessing.sequence import pad_sequences\n",
        "from keras.models import Sequential\n",
        "from keras.layers import (\n",
        "    Embedding,\n",
        "    Dense,\n",
        "    Dropout,\n",
        "    BatchNormalization,\n",
        "    GlobalAveragePooling1D,\n",
        "    GlobalMaxPooling1D,\n",
        "    Conv1D,\n",
        "    MaxPooling1D,\n",
        "    SpatialDropout1D\n",
        ")\n",
        "from keras.regularizers import l2\n",
        "from keras.callbacks import ModelCheckpoint, EarlyStopping\n",
        "\n",
        "import warnings\n",
        "warnings.filterwarnings('ignore')"
      ]
    },
    {
      "cell_type": "code",
      "execution_count": 36,
      "metadata": {
        "colab": {
          "base_uri": "https://localhost:8080/"
        },
        "id": "RDzza02o8_-6",
        "outputId": "4d5ac9ec-178f-43b4-98ca-916ae6e42922"
      },
      "outputs": [
        {
          "name": "stdout",
          "output_type": "stream",
          "text": [
            "Collecting wget\n",
            "  Downloading wget-3.2.zip (10 kB)\n",
            "  Preparing metadata (setup.py) ... \u001b[?25l\u001b[?25hdone\n",
            "Building wheels for collected packages: wget\n",
            "  Building wheel for wget (setup.py) ... \u001b[?25l\u001b[?25hdone\n",
            "  Created wheel for wget: filename=wget-3.2-py3-none-any.whl size=9656 sha256=1a9529c974a50dcd7033dc9097ac7a50ebfa4071af7844f95741ba133f5ae375\n",
            "  Stored in directory: /root/.cache/pip/wheels/8b/f1/7f/5c94f0a7a505ca1c81cd1d9208ae2064675d97582078e6c769\n",
            "Successfully built wget\n",
            "Installing collected packages: wget\n",
            "Successfully installed wget-3.2\n"
          ]
        }
      ],
      "source": [
        "!pip install wget"
      ]
    },
    {
      "cell_type": "code",
      "execution_count": 37,
      "metadata": {
        "id": "1s_fqaq39B-b"
      },
      "outputs": [],
      "source": [
        "import wget"
      ]
    },
    {
      "cell_type": "code",
      "execution_count": 12,
      "metadata": {
        "colab": {
          "base_uri": "https://localhost:8080/"
        },
        "id": "_ySeLJUh5JRS",
        "outputId": "62bc47e8-30dd-4f91-fb11-57608d648f39"
      },
      "outputs": [
        {
          "name": "stdout",
          "output_type": "stream",
          "text": [
            "Requirement already satisfied: youtube-comment-downloader in /usr/local/lib/python3.10/dist-packages (0.1.76)\n",
            "Requirement already satisfied: dateparser in /usr/local/lib/python3.10/dist-packages (from youtube-comment-downloader) (1.2.0)\n",
            "Requirement already satisfied: requests in /usr/local/lib/python3.10/dist-packages (from youtube-comment-downloader) (2.31.0)\n",
            "Requirement already satisfied: python-dateutil in /usr/local/lib/python3.10/dist-packages (from dateparser->youtube-comment-downloader) (2.8.2)\n",
            "Requirement already satisfied: pytz in /usr/local/lib/python3.10/dist-packages (from dateparser->youtube-comment-downloader) (2024.1)\n",
            "Requirement already satisfied: regex!=2019.02.19,!=2021.8.27 in /usr/local/lib/python3.10/dist-packages (from dateparser->youtube-comment-downloader) (2024.5.15)\n",
            "Requirement already satisfied: tzlocal in /usr/local/lib/python3.10/dist-packages (from dateparser->youtube-comment-downloader) (5.2)\n",
            "Requirement already satisfied: charset-normalizer<4,>=2 in /usr/local/lib/python3.10/dist-packages (from requests->youtube-comment-downloader) (3.3.2)\n",
            "Requirement already satisfied: idna<4,>=2.5 in /usr/local/lib/python3.10/dist-packages (from requests->youtube-comment-downloader) (3.7)\n",
            "Requirement already satisfied: urllib3<3,>=1.21.1 in /usr/local/lib/python3.10/dist-packages (from requests->youtube-comment-downloader) (2.0.7)\n",
            "Requirement already satisfied: certifi>=2017.4.17 in /usr/local/lib/python3.10/dist-packages (from requests->youtube-comment-downloader) (2024.7.4)\n",
            "Requirement already satisfied: six>=1.5 in /usr/local/lib/python3.10/dist-packages (from python-dateutil->dateparser->youtube-comment-downloader) (1.16.0)\n"
          ]
        }
      ],
      "source": [
        "!pip install youtube-comment-downloader"
      ]
    },
    {
      "cell_type": "code",
      "execution_count": 13,
      "metadata": {
        "id": "otl3RYdd6BIA"
      },
      "outputs": [],
      "source": [
        "from youtube_comment_downloader import *"
      ]
    },
    {
      "cell_type": "code",
      "execution_count": 14,
      "metadata": {
        "id": "hELaH9Mg5_hA"
      },
      "outputs": [],
      "source": [
        "downloader = YoutubeCommentDownloader()"
      ]
    },
    {
      "cell_type": "code",
      "execution_count": 15,
      "metadata": {
        "colab": {
          "base_uri": "https://localhost:8080/"
        },
        "id": "h4QtVG5q63Hk",
        "outputId": "484284df-a543-487e-86a6-5b3685f2b817"
      },
      "outputs": [
        {
          "name": "stdout",
          "output_type": "stream",
          "text": [
            "Collecting git+https://github.com/ariaghora/mpstemmer.git\n",
            "  Cloning https://github.com/ariaghora/mpstemmer.git to /tmp/pip-req-build-2nvv9yt5\n",
            "  Running command git clone --filter=blob:none --quiet https://github.com/ariaghora/mpstemmer.git /tmp/pip-req-build-2nvv9yt5\n",
            "  Resolved https://github.com/ariaghora/mpstemmer.git to commit 25a5fd923af163a7eac3a5ec976984156ca8fa8b\n",
            "  Preparing metadata (setup.py) ... \u001b[?25l\u001b[?25hdone\n"
          ]
        }
      ],
      "source": [
        "!pip install --upgrade git+https://github.com/ariaghora/mpstemmer.git"
      ]
    },
    {
      "cell_type": "code",
      "execution_count": 16,
      "metadata": {
        "colab": {
          "base_uri": "https://localhost:8080/"
        },
        "id": "jLhMlSZg65sh",
        "outputId": "506c5950-685a-4212-b97c-2605f7ec65b0"
      },
      "outputs": [
        {
          "name": "stdout",
          "output_type": "stream",
          "text": [
            "Requirement already satisfied: Levenshtein in /usr/local/lib/python3.10/dist-packages (0.25.1)\n",
            "Requirement already satisfied: rapidfuzz<4.0.0,>=3.8.0 in /usr/local/lib/python3.10/dist-packages (from Levenshtein) (3.9.5)\n"
          ]
        }
      ],
      "source": [
        "!pip install Levenshtein"
      ]
    },
    {
      "cell_type": "code",
      "execution_count": 17,
      "metadata": {
        "id": "ik8-FA9q67Eb"
      },
      "outputs": [],
      "source": [
        "from mpstemmer import MPStemmer\n",
        "\n",
        "stemmer = MPStemmer()"
      ]
    },
    {
      "cell_type": "code",
      "execution_count": 18,
      "metadata": {
        "colab": {
          "base_uri": "https://localhost:8080/"
        },
        "id": "-zIMn0Re68Vy",
        "outputId": "1bb3ea6f-2c74-4a25-ecf3-12b0f319c3da"
      },
      "outputs": [
        {
          "name": "stderr",
          "output_type": "stream",
          "text": [
            "[nltk_data] Downloading package punkt to /root/nltk_data...\n",
            "[nltk_data]   Unzipping tokenizers/punkt.zip.\n",
            "[nltk_data] Downloading package stopwords to /root/nltk_data...\n",
            "[nltk_data]   Unzipping corpora/stopwords.zip.\n"
          ]
        },
        {
          "data": {
            "text/plain": [
              "True"
            ]
          },
          "execution_count": 18,
          "metadata": {},
          "output_type": "execute_result"
        }
      ],
      "source": [
        "import nltk\n",
        "nltk.download('punkt')\n",
        "nltk.download('stopwords')"
      ]
    },
    {
      "cell_type": "code",
      "execution_count": 19,
      "metadata": {
        "id": "Hn5mIVEf6965"
      },
      "outputs": [],
      "source": [
        "stopwords = set(stopwords.words('indonesian'))"
      ]
    },
    {
      "cell_type": "code",
      "execution_count": 20,
      "metadata": {
        "colab": {
          "base_uri": "https://localhost:8080/"
        },
        "id": "7liZxITJ6_jc",
        "outputId": "3fb93d3f-4aa9-45d0-a5cc-a7d4eb213789"
      },
      "outputs": [
        {
          "name": "stdout",
          "output_type": "stream",
          "text": [
            "Requirement already satisfied: emoji in /usr/local/lib/python3.10/dist-packages (2.12.1)\n",
            "Requirement already satisfied: typing-extensions>=4.7.0 in /usr/local/lib/python3.10/dist-packages (from emoji) (4.12.2)\n"
          ]
        }
      ],
      "source": [
        "!pip install emoji"
      ]
    },
    {
      "cell_type": "code",
      "execution_count": 21,
      "metadata": {
        "id": "Pwdop4ca7AxZ"
      },
      "outputs": [],
      "source": [
        "import emoji"
      ]
    },
    {
      "cell_type": "markdown",
      "metadata": {
        "id": "RyADcaAm52sI"
      },
      "source": [
        "## **2. Scrape Dataset for Testing**"
      ]
    },
    {
      "cell_type": "code",
      "execution_count": 7,
      "metadata": {
        "id": "0yu4oqiX5kCP"
      },
      "outputs": [],
      "source": [
        "comments = downloader.get_comments_from_url(\"https://www.youtube.com/watch?v=_2yf29Wdekc\")\n",
        "\n",
        "comments_list = []\n",
        "\n",
        "for comment in comments:\n",
        "  comments_list.append(comment['text'])"
      ]
    },
    {
      "cell_type": "code",
      "execution_count": 8,
      "metadata": {
        "id": "NJYWcz6K6KcR"
      },
      "outputs": [],
      "source": [
        "import csv\n",
        "\n",
        "# Save to CSV\n",
        "with open('ruangguru_eps4.csv', 'w', newline='', encoding='utf-8') as file:\n",
        "    writer = csv.writer(file)\n",
        "    writer.writerow(['comment'])\n",
        "    for comment in comments_list:\n",
        "        writer.writerow([comment])"
      ]
    },
    {
      "cell_type": "markdown",
      "metadata": {
        "id": "6KzvSgxw7E3S"
      },
      "source": [
        "## **3. Load Dataset**"
      ]
    },
    {
      "cell_type": "code",
      "execution_count": 24,
      "metadata": {
        "colab": {
          "base_uri": "https://localhost:8080/",
          "height": 423
        },
        "id": "O0ysbeQS6Om6",
        "outputId": "9ee2c778-395a-4ec5-96f9-e42c23c9e946"
      },
      "outputs": [
        {
          "data": {
            "application/vnd.google.colaboratory.intrinsic+json": {
              "summary": "{\n  \"name\": \"corpus\",\n  \"rows\": 11514,\n  \"fields\": [\n    {\n      \"column\": \"comment\",\n      \"properties\": {\n        \"dtype\": \"string\",\n        \"num_unique_values\": 10924,\n        \"samples\": [\n          \"GILAKK SI INII WEE PECAAHHH BANGET NI ACARA!!!!!!!!! MENYALAAAAA RUANG GURUUU!!!\\ud83d\\udd25\\ud83d\\udd25\\ud83d\\udd25\",\n          \"Bocoran orang dalam, Tim sakira yg menang\",\n          \"Mereka kereeen !! Hebattt !! Please banyakkin tontonan sprti ini.\"\n        ],\n        \"semantic_type\": \"\",\n        \"description\": \"\"\n      }\n    }\n  ]\n}",
              "type": "dataframe",
              "variable_name": "corpus"
            },
            "text/html": [
              "\n",
              "  <div id=\"df-4069dcc4-0b03-4159-854b-e0c7dbc71f92\" class=\"colab-df-container\">\n",
              "    <div>\n",
              "<style scoped>\n",
              "    .dataframe tbody tr th:only-of-type {\n",
              "        vertical-align: middle;\n",
              "    }\n",
              "\n",
              "    .dataframe tbody tr th {\n",
              "        vertical-align: top;\n",
              "    }\n",
              "\n",
              "    .dataframe thead th {\n",
              "        text-align: right;\n",
              "    }\n",
              "</style>\n",
              "<table border=\"1\" class=\"dataframe\">\n",
              "  <thead>\n",
              "    <tr style=\"text-align: right;\">\n",
              "      <th></th>\n",
              "      <th>comment</th>\n",
              "    </tr>\n",
              "  </thead>\n",
              "  <tbody>\n",
              "    <tr>\n",
              "      <th>0</th>\n",
              "      <td>Tunggu episode 5 di Aplikasi dan Youtube Ruangguru pekan depan! Download aplikasi Ruangguru untuk coba soal dan gamesnya 🔥🔥[ https://s.id/cocapp ]</td>\n",
              "    </tr>\n",
              "    <tr>\n",
              "      <th>1</th>\n",
              "      <td>Walaupun lulusan SMP tapi Saya ingin Belajar kaya gini, lomba lomba kaya gini bikin saya semngat.\\n\\n\\n\\nApalagi matematika wow hobi banget</td>\n",
              "    </tr>\n",
              "    <tr>\n",
              "      <th>2</th>\n",
              "      <td>Semoga tahun depan ada yang bagian SMP sih seru kayaknya😹👍</td>\n",
              "    </tr>\n",
              "    <tr>\n",
              "      <th>3</th>\n",
              "      <td>https://youtube.com/playlist?list=PLDpk-iH-Gr78gzWEq8Xlz5gezNYJuDu4h&amp;si=e7LDc9tkAdOxYHJa\\n\\n\\nCOC Animasi</td>\n",
              "    </tr>\n",
              "    <tr>\n",
              "      <th>4</th>\n",
              "      <td>team kenji vs tim shakira gg sih seru banget, either team yang kalah ataupun menang keren-keren semua</td>\n",
              "    </tr>\n",
              "    <tr>\n",
              "      <th>...</th>\n",
              "      <td>...</td>\n",
              "    </tr>\n",
              "    <tr>\n",
              "      <th>11509</th>\n",
              "      <td>Sangat ku tunggu😫</td>\n",
              "    </tr>\n",
              "    <tr>\n",
              "      <th>11510</th>\n",
              "      <td>❤❤❤</td>\n",
              "    </tr>\n",
              "    <tr>\n",
              "      <th>11511</th>\n",
              "      <td>🔥🔥🔥</td>\n",
              "    </tr>\n",
              "    <tr>\n",
              "      <th>11512</th>\n",
              "      <td>aaaa❤</td>\n",
              "    </tr>\n",
              "    <tr>\n",
              "      <th>11513</th>\n",
              "      <td>Jadi ingin ikutan walau bagian bengong aja juga gapapa🫵🏻😭janji gak kesurupan</td>\n",
              "    </tr>\n",
              "  </tbody>\n",
              "</table>\n",
              "<p>11514 rows × 1 columns</p>\n",
              "</div>\n",
              "    <div class=\"colab-df-buttons\">\n",
              "\n",
              "  <div class=\"colab-df-container\">\n",
              "    <button class=\"colab-df-convert\" onclick=\"convertToInteractive('df-4069dcc4-0b03-4159-854b-e0c7dbc71f92')\"\n",
              "            title=\"Convert this dataframe to an interactive table.\"\n",
              "            style=\"display:none;\">\n",
              "\n",
              "  <svg xmlns=\"http://www.w3.org/2000/svg\" height=\"24px\" viewBox=\"0 -960 960 960\">\n",
              "    <path d=\"M120-120v-720h720v720H120Zm60-500h600v-160H180v160Zm220 220h160v-160H400v160Zm0 220h160v-160H400v160ZM180-400h160v-160H180v160Zm440 0h160v-160H620v160ZM180-180h160v-160H180v160Zm440 0h160v-160H620v160Z\"/>\n",
              "  </svg>\n",
              "    </button>\n",
              "\n",
              "  <style>\n",
              "    .colab-df-container {\n",
              "      display:flex;\n",
              "      gap: 12px;\n",
              "    }\n",
              "\n",
              "    .colab-df-convert {\n",
              "      background-color: #E8F0FE;\n",
              "      border: none;\n",
              "      border-radius: 50%;\n",
              "      cursor: pointer;\n",
              "      display: none;\n",
              "      fill: #1967D2;\n",
              "      height: 32px;\n",
              "      padding: 0 0 0 0;\n",
              "      width: 32px;\n",
              "    }\n",
              "\n",
              "    .colab-df-convert:hover {\n",
              "      background-color: #E2EBFA;\n",
              "      box-shadow: 0px 1px 2px rgba(60, 64, 67, 0.3), 0px 1px 3px 1px rgba(60, 64, 67, 0.15);\n",
              "      fill: #174EA6;\n",
              "    }\n",
              "\n",
              "    .colab-df-buttons div {\n",
              "      margin-bottom: 4px;\n",
              "    }\n",
              "\n",
              "    [theme=dark] .colab-df-convert {\n",
              "      background-color: #3B4455;\n",
              "      fill: #D2E3FC;\n",
              "    }\n",
              "\n",
              "    [theme=dark] .colab-df-convert:hover {\n",
              "      background-color: #434B5C;\n",
              "      box-shadow: 0px 1px 3px 1px rgba(0, 0, 0, 0.15);\n",
              "      filter: drop-shadow(0px 1px 2px rgba(0, 0, 0, 0.3));\n",
              "      fill: #FFFFFF;\n",
              "    }\n",
              "  </style>\n",
              "\n",
              "    <script>\n",
              "      const buttonEl =\n",
              "        document.querySelector('#df-4069dcc4-0b03-4159-854b-e0c7dbc71f92 button.colab-df-convert');\n",
              "      buttonEl.style.display =\n",
              "        google.colab.kernel.accessAllowed ? 'block' : 'none';\n",
              "\n",
              "      async function convertToInteractive(key) {\n",
              "        const element = document.querySelector('#df-4069dcc4-0b03-4159-854b-e0c7dbc71f92');\n",
              "        const dataTable =\n",
              "          await google.colab.kernel.invokeFunction('convertToInteractive',\n",
              "                                                    [key], {});\n",
              "        if (!dataTable) return;\n",
              "\n",
              "        const docLinkHtml = 'Like what you see? Visit the ' +\n",
              "          '<a target=\"_blank\" href=https://colab.research.google.com/notebooks/data_table.ipynb>data table notebook</a>'\n",
              "          + ' to learn more about interactive tables.';\n",
              "        element.innerHTML = '';\n",
              "        dataTable['output_type'] = 'display_data';\n",
              "        await google.colab.output.renderOutput(dataTable, element);\n",
              "        const docLink = document.createElement('div');\n",
              "        docLink.innerHTML = docLinkHtml;\n",
              "        element.appendChild(docLink);\n",
              "      }\n",
              "    </script>\n",
              "  </div>\n",
              "\n",
              "\n",
              "<div id=\"df-e6da19ba-7d05-433c-a59b-af0b4d63421c\">\n",
              "  <button class=\"colab-df-quickchart\" onclick=\"quickchart('df-e6da19ba-7d05-433c-a59b-af0b4d63421c')\"\n",
              "            title=\"Suggest charts\"\n",
              "            style=\"display:none;\">\n",
              "\n",
              "<svg xmlns=\"http://www.w3.org/2000/svg\" height=\"24px\"viewBox=\"0 0 24 24\"\n",
              "     width=\"24px\">\n",
              "    <g>\n",
              "        <path d=\"M19 3H5c-1.1 0-2 .9-2 2v14c0 1.1.9 2 2 2h14c1.1 0 2-.9 2-2V5c0-1.1-.9-2-2-2zM9 17H7v-7h2v7zm4 0h-2V7h2v10zm4 0h-2v-4h2v4z\"/>\n",
              "    </g>\n",
              "</svg>\n",
              "  </button>\n",
              "\n",
              "<style>\n",
              "  .colab-df-quickchart {\n",
              "      --bg-color: #E8F0FE;\n",
              "      --fill-color: #1967D2;\n",
              "      --hover-bg-color: #E2EBFA;\n",
              "      --hover-fill-color: #174EA6;\n",
              "      --disabled-fill-color: #AAA;\n",
              "      --disabled-bg-color: #DDD;\n",
              "  }\n",
              "\n",
              "  [theme=dark] .colab-df-quickchart {\n",
              "      --bg-color: #3B4455;\n",
              "      --fill-color: #D2E3FC;\n",
              "      --hover-bg-color: #434B5C;\n",
              "      --hover-fill-color: #FFFFFF;\n",
              "      --disabled-bg-color: #3B4455;\n",
              "      --disabled-fill-color: #666;\n",
              "  }\n",
              "\n",
              "  .colab-df-quickchart {\n",
              "    background-color: var(--bg-color);\n",
              "    border: none;\n",
              "    border-radius: 50%;\n",
              "    cursor: pointer;\n",
              "    display: none;\n",
              "    fill: var(--fill-color);\n",
              "    height: 32px;\n",
              "    padding: 0;\n",
              "    width: 32px;\n",
              "  }\n",
              "\n",
              "  .colab-df-quickchart:hover {\n",
              "    background-color: var(--hover-bg-color);\n",
              "    box-shadow: 0 1px 2px rgba(60, 64, 67, 0.3), 0 1px 3px 1px rgba(60, 64, 67, 0.15);\n",
              "    fill: var(--button-hover-fill-color);\n",
              "  }\n",
              "\n",
              "  .colab-df-quickchart-complete:disabled,\n",
              "  .colab-df-quickchart-complete:disabled:hover {\n",
              "    background-color: var(--disabled-bg-color);\n",
              "    fill: var(--disabled-fill-color);\n",
              "    box-shadow: none;\n",
              "  }\n",
              "\n",
              "  .colab-df-spinner {\n",
              "    border: 2px solid var(--fill-color);\n",
              "    border-color: transparent;\n",
              "    border-bottom-color: var(--fill-color);\n",
              "    animation:\n",
              "      spin 1s steps(1) infinite;\n",
              "  }\n",
              "\n",
              "  @keyframes spin {\n",
              "    0% {\n",
              "      border-color: transparent;\n",
              "      border-bottom-color: var(--fill-color);\n",
              "      border-left-color: var(--fill-color);\n",
              "    }\n",
              "    20% {\n",
              "      border-color: transparent;\n",
              "      border-left-color: var(--fill-color);\n",
              "      border-top-color: var(--fill-color);\n",
              "    }\n",
              "    30% {\n",
              "      border-color: transparent;\n",
              "      border-left-color: var(--fill-color);\n",
              "      border-top-color: var(--fill-color);\n",
              "      border-right-color: var(--fill-color);\n",
              "    }\n",
              "    40% {\n",
              "      border-color: transparent;\n",
              "      border-right-color: var(--fill-color);\n",
              "      border-top-color: var(--fill-color);\n",
              "    }\n",
              "    60% {\n",
              "      border-color: transparent;\n",
              "      border-right-color: var(--fill-color);\n",
              "    }\n",
              "    80% {\n",
              "      border-color: transparent;\n",
              "      border-right-color: var(--fill-color);\n",
              "      border-bottom-color: var(--fill-color);\n",
              "    }\n",
              "    90% {\n",
              "      border-color: transparent;\n",
              "      border-bottom-color: var(--fill-color);\n",
              "    }\n",
              "  }\n",
              "</style>\n",
              "\n",
              "  <script>\n",
              "    async function quickchart(key) {\n",
              "      const quickchartButtonEl =\n",
              "        document.querySelector('#' + key + ' button');\n",
              "      quickchartButtonEl.disabled = true;  // To prevent multiple clicks.\n",
              "      quickchartButtonEl.classList.add('colab-df-spinner');\n",
              "      try {\n",
              "        const charts = await google.colab.kernel.invokeFunction(\n",
              "            'suggestCharts', [key], {});\n",
              "      } catch (error) {\n",
              "        console.error('Error during call to suggestCharts:', error);\n",
              "      }\n",
              "      quickchartButtonEl.classList.remove('colab-df-spinner');\n",
              "      quickchartButtonEl.classList.add('colab-df-quickchart-complete');\n",
              "    }\n",
              "    (() => {\n",
              "      let quickchartButtonEl =\n",
              "        document.querySelector('#df-e6da19ba-7d05-433c-a59b-af0b4d63421c button');\n",
              "      quickchartButtonEl.style.display =\n",
              "        google.colab.kernel.accessAllowed ? 'block' : 'none';\n",
              "    })();\n",
              "  </script>\n",
              "</div>\n",
              "\n",
              "  <div id=\"id_661c10be-7658-4090-acfe-1dee7b6357dc\">\n",
              "    <style>\n",
              "      .colab-df-generate {\n",
              "        background-color: #E8F0FE;\n",
              "        border: none;\n",
              "        border-radius: 50%;\n",
              "        cursor: pointer;\n",
              "        display: none;\n",
              "        fill: #1967D2;\n",
              "        height: 32px;\n",
              "        padding: 0 0 0 0;\n",
              "        width: 32px;\n",
              "      }\n",
              "\n",
              "      .colab-df-generate:hover {\n",
              "        background-color: #E2EBFA;\n",
              "        box-shadow: 0px 1px 2px rgba(60, 64, 67, 0.3), 0px 1px 3px 1px rgba(60, 64, 67, 0.15);\n",
              "        fill: #174EA6;\n",
              "      }\n",
              "\n",
              "      [theme=dark] .colab-df-generate {\n",
              "        background-color: #3B4455;\n",
              "        fill: #D2E3FC;\n",
              "      }\n",
              "\n",
              "      [theme=dark] .colab-df-generate:hover {\n",
              "        background-color: #434B5C;\n",
              "        box-shadow: 0px 1px 3px 1px rgba(0, 0, 0, 0.15);\n",
              "        filter: drop-shadow(0px 1px 2px rgba(0, 0, 0, 0.3));\n",
              "        fill: #FFFFFF;\n",
              "      }\n",
              "    </style>\n",
              "    <button class=\"colab-df-generate\" onclick=\"generateWithVariable('corpus')\"\n",
              "            title=\"Generate code using this dataframe.\"\n",
              "            style=\"display:none;\">\n",
              "\n",
              "  <svg xmlns=\"http://www.w3.org/2000/svg\" height=\"24px\"viewBox=\"0 0 24 24\"\n",
              "       width=\"24px\">\n",
              "    <path d=\"M7,19H8.4L18.45,9,17,7.55,7,17.6ZM5,21V16.75L18.45,3.32a2,2,0,0,1,2.83,0l1.4,1.43a1.91,1.91,0,0,1,.58,1.4,1.91,1.91,0,0,1-.58,1.4L9.25,21ZM18.45,9,17,7.55Zm-12,3A5.31,5.31,0,0,0,4.9,8.1,5.31,5.31,0,0,0,1,6.5,5.31,5.31,0,0,0,4.9,4.9,5.31,5.31,0,0,0,6.5,1,5.31,5.31,0,0,0,8.1,4.9,5.31,5.31,0,0,0,12,6.5,5.46,5.46,0,0,0,6.5,12Z\"/>\n",
              "  </svg>\n",
              "    </button>\n",
              "    <script>\n",
              "      (() => {\n",
              "      const buttonEl =\n",
              "        document.querySelector('#id_661c10be-7658-4090-acfe-1dee7b6357dc button.colab-df-generate');\n",
              "      buttonEl.style.display =\n",
              "        google.colab.kernel.accessAllowed ? 'block' : 'none';\n",
              "\n",
              "      buttonEl.onclick = () => {\n",
              "        google.colab.notebook.generateWithVariable('corpus');\n",
              "      }\n",
              "      })();\n",
              "    </script>\n",
              "  </div>\n",
              "\n",
              "    </div>\n",
              "  </div>\n"
            ],
            "text/plain": [
              "                                                                                                                                                  comment\n",
              "0      Tunggu episode 5 di Aplikasi dan Youtube Ruangguru pekan depan! Download aplikasi Ruangguru untuk coba soal dan gamesnya 🔥🔥[ https://s.id/cocapp ]\n",
              "1             Walaupun lulusan SMP tapi Saya ingin Belajar kaya gini, lomba lomba kaya gini bikin saya semngat.\\n\\n\\n\\nApalagi matematika wow hobi banget\n",
              "2                                                                                              Semoga tahun depan ada yang bagian SMP sih seru kayaknya😹👍\n",
              "3                                               https://youtube.com/playlist?list=PLDpk-iH-Gr78gzWEq8Xlz5gezNYJuDu4h&si=e7LDc9tkAdOxYHJa\\n\\n\\nCOC Animasi\n",
              "4                                                   team kenji vs tim shakira gg sih seru banget, either team yang kalah ataupun menang keren-keren semua\n",
              "...                                                                                                                                                   ...\n",
              "11509                                                                                                                                   Sangat ku tunggu😫\n",
              "11510                                                                                                                                                 ❤❤❤\n",
              "11511                                                                                                                                                 🔥🔥🔥\n",
              "11512                                                                                                                                               aaaa❤\n",
              "11513                                                                        Jadi ingin ikutan walau bagian bengong aja juga gapapa🫵🏻😭janji gak kesurupan\n",
              "\n",
              "[11514 rows x 1 columns]"
            ]
          },
          "execution_count": 24,
          "metadata": {},
          "output_type": "execute_result"
        }
      ],
      "source": [
        "import pandas as pd\n",
        "\n",
        "corpus = pd.read_csv('ruangguru_eps4.csv')\n",
        "corpus"
      ]
    },
    {
      "cell_type": "markdown",
      "metadata": {
        "id": "F-gyRSzv7SXb"
      },
      "source": [
        "## **4. Dataset Preprocessing**"
      ]
    },
    {
      "cell_type": "code",
      "execution_count": 25,
      "metadata": {
        "id": "mtLuGpkS6Q8C"
      },
      "outputs": [],
      "source": [
        "# Load normalized terms\n",
        "normalized_term = {}\n",
        "\n",
        "url = 'https://github.com/teguhary/Automated-labelling-Inset-Lexicon/raw/master/Data/kamus_kata_alay.xlsx'\n",
        "response = requests.get(url)\n",
        "\n",
        "if response.status_code == 200:\n",
        "    df = pd.read_excel(BytesIO(response.content))\n",
        "    normalized_term = dict(zip(df[df.columns[0]], df[df.columns[1]]))\n",
        "\n",
        "else:\n",
        "    print('Failed to fetch normalized words data')"
      ]
    },
    {
      "cell_type": "code",
      "execution_count": 26,
      "metadata": {
        "id": "yIRUgtUL7jqU"
      },
      "outputs": [],
      "source": [
        "# Function for corpus cleaning\n",
        "def clean_corpus_docs(doc):\n",
        "    # Remove emojis\n",
        "    doc = emoji.replace_emoji(doc, replace='')\n",
        "\n",
        "    # Normalize Unicode characters (e.g., combining characters)\n",
        "    doc = unicodedata.normalize('NFKD', doc)\n",
        "\n",
        "    # Lowercase the doc\n",
        "    doc = doc.lower()\n",
        "\n",
        "    # Remove mentions, hashtags, RTs, URLs, numbers, and punctuation\n",
        "    doc = re.sub(r'(@[A-Za-z0-9]+|#[A-Za-z0-9]+|RT[\\s]|http\\S+|\\d+|[^\\w\\s])', '', doc)\n",
        "\n",
        "    # Remove extra whitespace and leading/trailing spaces\n",
        "    doc = re.sub(r'\\s+', ' ', doc).strip()\n",
        "\n",
        "    # Reduce repeated characters (e.g., \"sukaaa\" to \"suka\", but keep \"tuannya\" as \"tuannya\", not \"tuanya\")\n",
        "    doc = re.sub(r'(.)\\1{2,}', r'\\1', doc)\n",
        "\n",
        "    # Tokenize the doc\n",
        "    tokens = word_tokenize(doc)\n",
        "\n",
        "    # Normalize and stem tokens\n",
        "    tokens = [normalized_term.get(token, token) for token in tokens]  # Normalize\n",
        "    tokens = [stemmer.stem(token) for token in tokens]              # Stem\n",
        "\n",
        "    # Remove stopwords\n",
        "    tokens = [token for token in tokens if token not in stopwords]\n",
        "\n",
        "    # Remove token with characters <= 2\n",
        "    tokens = [token for token in tokens if len(token) > 2]\n",
        "\n",
        "    return tokens  # Return list of processed terms"
      ]
    },
    {
      "cell_type": "code",
      "execution_count": 27,
      "metadata": {
        "id": "13WQs9D67llC"
      },
      "outputs": [],
      "source": [
        "# Clean the corpus\n",
        "corpus['tokens'] = corpus['comment'].apply(clean_corpus_docs)"
      ]
    },
    {
      "cell_type": "markdown",
      "metadata": {
        "id": "rj6mgoWJ7-aw"
      },
      "source": [
        "## **5. Dataset Labeling**"
      ]
    },
    {
      "cell_type": "code",
      "execution_count": 31,
      "metadata": {
        "id": "TzGQN5Mm7xQX"
      },
      "outputs": [],
      "source": [
        "# Read positive term dictionary data from GitHub\n",
        "lexicon_positive = dict()\n",
        "\n",
        "# Send an HTTP request to get a CSV file from GitHub\n",
        "response = requests.get('https://raw.githubusercontent.com/angelmetanosaa/dataset/main/lexicon_positive.csv')\n",
        "\n",
        "if response.status_code == 200:\n",
        "    # If the request succeeds\n",
        "    # Read response text as a CSV file using a CSV reader with comma separators\n",
        "    reader = csv.reader(StringIO(response.text), delimiter=',')\n",
        "\n",
        "    for row in reader:\n",
        "        # Loop through each row in a CSV file\n",
        "        # Added positive term and their scores to the lexicon_positive dictionary\n",
        "        lexicon_positive[row[0]] = int(row[1])\n",
        "\n",
        "else:\n",
        "    print('Failed to fetch positive lexicon date')\n",
        "\n",
        "# Read negative term dictionary data from GitHub\n",
        "lexicon_negative = dict()\n",
        "\n",
        "# Send an HTTP request to get a CSV file from GitHub\n",
        "response = requests.get('https://raw.githubusercontent.com/angelmetanosaa/dataset/main/lexicon_negative.csv')\n",
        "\n",
        "if response.status_code == 200:\n",
        "    # If the request succeeds\n",
        "    # Read response text as a CSV file using a CSV reader with comma separators\n",
        "    reader = csv.reader(StringIO(response.text), delimiter=',')\n",
        "\n",
        "    for row in reader:\n",
        "        # Loop through each row in a CSV file\n",
        "        # Added negative term and their scores to the lexicon_negative dictionary\n",
        "        lexicon_negative[row[0]] = int(row[1])\n",
        "\n",
        "else:\n",
        "    print('Failed to fetch negative lexicon date')"
      ]
    },
    {
      "cell_type": "code",
      "execution_count": 32,
      "metadata": {
        "id": "3qE5y_CM8G83"
      },
      "outputs": [],
      "source": [
        "# Function to determine the sentiment polarity of comments\n",
        "def sentiment_analysis_lexicon_indonesia(doc):\n",
        "    # For term in doc:\n",
        "    score = 0 # Initialize sentiment score to 0\n",
        "    for term in doc:\n",
        "        # Loops every term in the doc\n",
        "        if (term in lexicon_positive):\n",
        "            # If the term is in the positive dictionary, add its score to the sentiment score\n",
        "            score = score + lexicon_positive[term]\n",
        "\n",
        "    for term in doc:\n",
        "        # Loops every term in the doc again\n",
        "        if (term in lexicon_negative):\n",
        "            # If the term is in the negative dictionary, subtract its score to the sentiment score\n",
        "            score = score + lexicon_negative[term]\n",
        "\n",
        "    # Initialize polarity variables\n",
        "    polarity = ''\n",
        "\n",
        "    if score > 0:\n",
        "        # If the sentiment score is greater than or equal to 0, then the polarity is positive\n",
        "        polarity = 'positive'\n",
        "    elif score < 0:\n",
        "        # If the sentiment score is less than 0, then the polarity is negative\n",
        "        polarity = 'negative'\n",
        "    else:\n",
        "        polarity = 'neutral'\n",
        "\n",
        "    return score, polarity"
      ]
    },
    {
      "cell_type": "code",
      "execution_count": 33,
      "metadata": {
        "colab": {
          "base_uri": "https://localhost:8080/"
        },
        "id": "kohlFzJh8IVK",
        "outputId": "7050ea98-1adf-4fe7-cc75-94158fb9e7ea"
      },
      "outputs": [
        {
          "name": "stdout",
          "output_type": "stream",
          "text": [
            "polarity\n",
            "negative    5006\n",
            "neutral     3338\n",
            "positive    3170\n",
            "Name: count, dtype: int64\n"
          ]
        }
      ],
      "source": [
        "# Show the total number for each polarity\n",
        "results = corpus['tokens'].apply(sentiment_analysis_lexicon_indonesia)\n",
        "results = list(zip(*results))\n",
        "corpus['polarity_score'] = results[0]\n",
        "corpus['polarity'] = results[1]\n",
        "print(corpus['polarity'].value_counts())"
      ]
    },
    {
      "cell_type": "code",
      "execution_count": 34,
      "metadata": {
        "colab": {
          "base_uri": "https://localhost:8080/",
          "height": 510
        },
        "id": "DoLQeVIa8JeD",
        "outputId": "5740baef-f21e-4f2f-bacf-dc86f9341247"
      },
      "outputs": [
        {
          "data": {
            "application/vnd.google.colaboratory.intrinsic+json": {
              "summary": "{\n  \"name\": \"corpus\",\n  \"rows\": 11514,\n  \"fields\": [\n    {\n      \"column\": \"comment\",\n      \"properties\": {\n        \"dtype\": \"string\",\n        \"num_unique_values\": 10924,\n        \"samples\": [\n          \"GILAKK SI INII WEE PECAAHHH BANGET NI ACARA!!!!!!!!! MENYALAAAAA RUANG GURUUU!!!\\ud83d\\udd25\\ud83d\\udd25\\ud83d\\udd25\",\n          \"Bocoran orang dalam, Tim sakira yg menang\",\n          \"Mereka kereeen !! Hebattt !! Please banyakkin tontonan sprti ini.\"\n        ],\n        \"semantic_type\": \"\",\n        \"description\": \"\"\n      }\n    },\n    {\n      \"column\": \"tokens\",\n      \"properties\": {\n        \"dtype\": \"object\",\n        \"semantic_type\": \"\",\n        \"description\": \"\"\n      }\n    },\n    {\n      \"column\": \"polarity_score\",\n      \"properties\": {\n        \"dtype\": \"number\",\n        \"std\": 5,\n        \"min\": -67,\n        \"max\": 31,\n        \"num_unique_values\": 72,\n        \"samples\": [\n          -6,\n          -59,\n          6\n        ],\n        \"semantic_type\": \"\",\n        \"description\": \"\"\n      }\n    },\n    {\n      \"column\": \"polarity\",\n      \"properties\": {\n        \"dtype\": \"category\",\n        \"num_unique_values\": 3,\n        \"samples\": [\n          \"negative\",\n          \"positive\",\n          \"neutral\"\n        ],\n        \"semantic_type\": \"\",\n        \"description\": \"\"\n      }\n    },\n    {\n      \"column\": \"label\",\n      \"properties\": {\n        \"dtype\": \"number\",\n        \"std\": 0,\n        \"min\": 0,\n        \"max\": 2,\n        \"num_unique_values\": 3,\n        \"samples\": [\n          0,\n          2,\n          1\n        ],\n        \"semantic_type\": \"\",\n        \"description\": \"\"\n      }\n    }\n  ]\n}",
              "type": "dataframe",
              "variable_name": "corpus"
            },
            "text/html": [
              "\n",
              "  <div id=\"df-c913a5d8-68ee-4cad-8893-3ee5a1525d48\" class=\"colab-df-container\">\n",
              "    <div>\n",
              "<style scoped>\n",
              "    .dataframe tbody tr th:only-of-type {\n",
              "        vertical-align: middle;\n",
              "    }\n",
              "\n",
              "    .dataframe tbody tr th {\n",
              "        vertical-align: top;\n",
              "    }\n",
              "\n",
              "    .dataframe thead th {\n",
              "        text-align: right;\n",
              "    }\n",
              "</style>\n",
              "<table border=\"1\" class=\"dataframe\">\n",
              "  <thead>\n",
              "    <tr style=\"text-align: right;\">\n",
              "      <th></th>\n",
              "      <th>comment</th>\n",
              "      <th>tokens</th>\n",
              "      <th>polarity_score</th>\n",
              "      <th>polarity</th>\n",
              "      <th>label</th>\n",
              "    </tr>\n",
              "  </thead>\n",
              "  <tbody>\n",
              "    <tr>\n",
              "      <th>0</th>\n",
              "      <td>Tunggu episode 5 di Aplikasi dan Youtube Ruangguru pekan depan! Download aplikasi Ruangguru untuk coba soal dan gamesnya 🔥🔥[ https://s.id/cocapp ]</td>\n",
              "      <td>[tunggu, episode, aplikasi, youtube, ruangguru, pekan, download, aplikasi, ruangguru, coba, gamesnya]</td>\n",
              "      <td>-8</td>\n",
              "      <td>negative</td>\n",
              "      <td>0</td>\n",
              "    </tr>\n",
              "    <tr>\n",
              "      <th>1</th>\n",
              "      <td>Walaupun lulusan SMP tapi Saya ingin Belajar kaya gini, lomba lomba kaya gini bikin saya semngat.\\n\\n\\n\\nApalagi matematika wow hobi banget</td>\n",
              "      <td>[lulus, ajar, kayak, lomba, lomba, kayak, bikin, semangat, matematika, wow, hobi, banget]</td>\n",
              "      <td>1</td>\n",
              "      <td>positive</td>\n",
              "      <td>2</td>\n",
              "    </tr>\n",
              "    <tr>\n",
              "      <th>2</th>\n",
              "      <td>Semoga tahun depan ada yang bagian SMP sih seru kayaknya😹👍</td>\n",
              "      <td>[moga, sih, seru, kayak]</td>\n",
              "      <td>-2</td>\n",
              "      <td>negative</td>\n",
              "      <td>0</td>\n",
              "    </tr>\n",
              "    <tr>\n",
              "      <th>3</th>\n",
              "      <td>https://youtube.com/playlist?list=PLDpk-iH-Gr78gzWEq8Xlz5gezNYJuDu4h&amp;si=e7LDc9tkAdOxYHJa\\n\\n\\nCOC Animasi</td>\n",
              "      <td>[coc, animasi]</td>\n",
              "      <td>0</td>\n",
              "      <td>neutral</td>\n",
              "      <td>1</td>\n",
              "    </tr>\n",
              "    <tr>\n",
              "      <th>4</th>\n",
              "      <td>team kenji vs tim shakira gg sih seru banget, either team yang kalah ataupun menang keren-keren semua</td>\n",
              "      <td>[team, kenji, tim, shakira, sih, seru, banget, either, team, kalah, menang, kerenkeren]</td>\n",
              "      <td>-6</td>\n",
              "      <td>negative</td>\n",
              "      <td>0</td>\n",
              "    </tr>\n",
              "    <tr>\n",
              "      <th>...</th>\n",
              "      <td>...</td>\n",
              "      <td>...</td>\n",
              "      <td>...</td>\n",
              "      <td>...</td>\n",
              "      <td>...</td>\n",
              "    </tr>\n",
              "    <tr>\n",
              "      <th>11509</th>\n",
              "      <td>Sangat ku tunggu😫</td>\n",
              "      <td>[tunggu]</td>\n",
              "      <td>-1</td>\n",
              "      <td>negative</td>\n",
              "      <td>0</td>\n",
              "    </tr>\n",
              "    <tr>\n",
              "      <th>11510</th>\n",
              "      <td>❤❤❤</td>\n",
              "      <td>[]</td>\n",
              "      <td>0</td>\n",
              "      <td>neutral</td>\n",
              "      <td>1</td>\n",
              "    </tr>\n",
              "    <tr>\n",
              "      <th>11511</th>\n",
              "      <td>🔥🔥🔥</td>\n",
              "      <td>[]</td>\n",
              "      <td>0</td>\n",
              "      <td>neutral</td>\n",
              "      <td>1</td>\n",
              "    </tr>\n",
              "    <tr>\n",
              "      <th>11512</th>\n",
              "      <td>aaaa❤</td>\n",
              "      <td>[]</td>\n",
              "      <td>0</td>\n",
              "      <td>neutral</td>\n",
              "      <td>1</td>\n",
              "    </tr>\n",
              "    <tr>\n",
              "      <th>11513</th>\n",
              "      <td>Jadi ingin ikutan walau bagian bengong aja juga gapapa🫵🏻😭janji gak kesurupan</td>\n",
              "      <td>[bengong, gapapajanji, surup]</td>\n",
              "      <td>-5</td>\n",
              "      <td>negative</td>\n",
              "      <td>0</td>\n",
              "    </tr>\n",
              "  </tbody>\n",
              "</table>\n",
              "<p>11514 rows × 5 columns</p>\n",
              "</div>\n",
              "    <div class=\"colab-df-buttons\">\n",
              "\n",
              "  <div class=\"colab-df-container\">\n",
              "    <button class=\"colab-df-convert\" onclick=\"convertToInteractive('df-c913a5d8-68ee-4cad-8893-3ee5a1525d48')\"\n",
              "            title=\"Convert this dataframe to an interactive table.\"\n",
              "            style=\"display:none;\">\n",
              "\n",
              "  <svg xmlns=\"http://www.w3.org/2000/svg\" height=\"24px\" viewBox=\"0 -960 960 960\">\n",
              "    <path d=\"M120-120v-720h720v720H120Zm60-500h600v-160H180v160Zm220 220h160v-160H400v160Zm0 220h160v-160H400v160ZM180-400h160v-160H180v160Zm440 0h160v-160H620v160ZM180-180h160v-160H180v160Zm440 0h160v-160H620v160Z\"/>\n",
              "  </svg>\n",
              "    </button>\n",
              "\n",
              "  <style>\n",
              "    .colab-df-container {\n",
              "      display:flex;\n",
              "      gap: 12px;\n",
              "    }\n",
              "\n",
              "    .colab-df-convert {\n",
              "      background-color: #E8F0FE;\n",
              "      border: none;\n",
              "      border-radius: 50%;\n",
              "      cursor: pointer;\n",
              "      display: none;\n",
              "      fill: #1967D2;\n",
              "      height: 32px;\n",
              "      padding: 0 0 0 0;\n",
              "      width: 32px;\n",
              "    }\n",
              "\n",
              "    .colab-df-convert:hover {\n",
              "      background-color: #E2EBFA;\n",
              "      box-shadow: 0px 1px 2px rgba(60, 64, 67, 0.3), 0px 1px 3px 1px rgba(60, 64, 67, 0.15);\n",
              "      fill: #174EA6;\n",
              "    }\n",
              "\n",
              "    .colab-df-buttons div {\n",
              "      margin-bottom: 4px;\n",
              "    }\n",
              "\n",
              "    [theme=dark] .colab-df-convert {\n",
              "      background-color: #3B4455;\n",
              "      fill: #D2E3FC;\n",
              "    }\n",
              "\n",
              "    [theme=dark] .colab-df-convert:hover {\n",
              "      background-color: #434B5C;\n",
              "      box-shadow: 0px 1px 3px 1px rgba(0, 0, 0, 0.15);\n",
              "      filter: drop-shadow(0px 1px 2px rgba(0, 0, 0, 0.3));\n",
              "      fill: #FFFFFF;\n",
              "    }\n",
              "  </style>\n",
              "\n",
              "    <script>\n",
              "      const buttonEl =\n",
              "        document.querySelector('#df-c913a5d8-68ee-4cad-8893-3ee5a1525d48 button.colab-df-convert');\n",
              "      buttonEl.style.display =\n",
              "        google.colab.kernel.accessAllowed ? 'block' : 'none';\n",
              "\n",
              "      async function convertToInteractive(key) {\n",
              "        const element = document.querySelector('#df-c913a5d8-68ee-4cad-8893-3ee5a1525d48');\n",
              "        const dataTable =\n",
              "          await google.colab.kernel.invokeFunction('convertToInteractive',\n",
              "                                                    [key], {});\n",
              "        if (!dataTable) return;\n",
              "\n",
              "        const docLinkHtml = 'Like what you see? Visit the ' +\n",
              "          '<a target=\"_blank\" href=https://colab.research.google.com/notebooks/data_table.ipynb>data table notebook</a>'\n",
              "          + ' to learn more about interactive tables.';\n",
              "        element.innerHTML = '';\n",
              "        dataTable['output_type'] = 'display_data';\n",
              "        await google.colab.output.renderOutput(dataTable, element);\n",
              "        const docLink = document.createElement('div');\n",
              "        docLink.innerHTML = docLinkHtml;\n",
              "        element.appendChild(docLink);\n",
              "      }\n",
              "    </script>\n",
              "  </div>\n",
              "\n",
              "\n",
              "<div id=\"df-e41d8bd3-9aed-4cc7-8b4a-d9df5e9ba3bd\">\n",
              "  <button class=\"colab-df-quickchart\" onclick=\"quickchart('df-e41d8bd3-9aed-4cc7-8b4a-d9df5e9ba3bd')\"\n",
              "            title=\"Suggest charts\"\n",
              "            style=\"display:none;\">\n",
              "\n",
              "<svg xmlns=\"http://www.w3.org/2000/svg\" height=\"24px\"viewBox=\"0 0 24 24\"\n",
              "     width=\"24px\">\n",
              "    <g>\n",
              "        <path d=\"M19 3H5c-1.1 0-2 .9-2 2v14c0 1.1.9 2 2 2h14c1.1 0 2-.9 2-2V5c0-1.1-.9-2-2-2zM9 17H7v-7h2v7zm4 0h-2V7h2v10zm4 0h-2v-4h2v4z\"/>\n",
              "    </g>\n",
              "</svg>\n",
              "  </button>\n",
              "\n",
              "<style>\n",
              "  .colab-df-quickchart {\n",
              "      --bg-color: #E8F0FE;\n",
              "      --fill-color: #1967D2;\n",
              "      --hover-bg-color: #E2EBFA;\n",
              "      --hover-fill-color: #174EA6;\n",
              "      --disabled-fill-color: #AAA;\n",
              "      --disabled-bg-color: #DDD;\n",
              "  }\n",
              "\n",
              "  [theme=dark] .colab-df-quickchart {\n",
              "      --bg-color: #3B4455;\n",
              "      --fill-color: #D2E3FC;\n",
              "      --hover-bg-color: #434B5C;\n",
              "      --hover-fill-color: #FFFFFF;\n",
              "      --disabled-bg-color: #3B4455;\n",
              "      --disabled-fill-color: #666;\n",
              "  }\n",
              "\n",
              "  .colab-df-quickchart {\n",
              "    background-color: var(--bg-color);\n",
              "    border: none;\n",
              "    border-radius: 50%;\n",
              "    cursor: pointer;\n",
              "    display: none;\n",
              "    fill: var(--fill-color);\n",
              "    height: 32px;\n",
              "    padding: 0;\n",
              "    width: 32px;\n",
              "  }\n",
              "\n",
              "  .colab-df-quickchart:hover {\n",
              "    background-color: var(--hover-bg-color);\n",
              "    box-shadow: 0 1px 2px rgba(60, 64, 67, 0.3), 0 1px 3px 1px rgba(60, 64, 67, 0.15);\n",
              "    fill: var(--button-hover-fill-color);\n",
              "  }\n",
              "\n",
              "  .colab-df-quickchart-complete:disabled,\n",
              "  .colab-df-quickchart-complete:disabled:hover {\n",
              "    background-color: var(--disabled-bg-color);\n",
              "    fill: var(--disabled-fill-color);\n",
              "    box-shadow: none;\n",
              "  }\n",
              "\n",
              "  .colab-df-spinner {\n",
              "    border: 2px solid var(--fill-color);\n",
              "    border-color: transparent;\n",
              "    border-bottom-color: var(--fill-color);\n",
              "    animation:\n",
              "      spin 1s steps(1) infinite;\n",
              "  }\n",
              "\n",
              "  @keyframes spin {\n",
              "    0% {\n",
              "      border-color: transparent;\n",
              "      border-bottom-color: var(--fill-color);\n",
              "      border-left-color: var(--fill-color);\n",
              "    }\n",
              "    20% {\n",
              "      border-color: transparent;\n",
              "      border-left-color: var(--fill-color);\n",
              "      border-top-color: var(--fill-color);\n",
              "    }\n",
              "    30% {\n",
              "      border-color: transparent;\n",
              "      border-left-color: var(--fill-color);\n",
              "      border-top-color: var(--fill-color);\n",
              "      border-right-color: var(--fill-color);\n",
              "    }\n",
              "    40% {\n",
              "      border-color: transparent;\n",
              "      border-right-color: var(--fill-color);\n",
              "      border-top-color: var(--fill-color);\n",
              "    }\n",
              "    60% {\n",
              "      border-color: transparent;\n",
              "      border-right-color: var(--fill-color);\n",
              "    }\n",
              "    80% {\n",
              "      border-color: transparent;\n",
              "      border-right-color: var(--fill-color);\n",
              "      border-bottom-color: var(--fill-color);\n",
              "    }\n",
              "    90% {\n",
              "      border-color: transparent;\n",
              "      border-bottom-color: var(--fill-color);\n",
              "    }\n",
              "  }\n",
              "</style>\n",
              "\n",
              "  <script>\n",
              "    async function quickchart(key) {\n",
              "      const quickchartButtonEl =\n",
              "        document.querySelector('#' + key + ' button');\n",
              "      quickchartButtonEl.disabled = true;  // To prevent multiple clicks.\n",
              "      quickchartButtonEl.classList.add('colab-df-spinner');\n",
              "      try {\n",
              "        const charts = await google.colab.kernel.invokeFunction(\n",
              "            'suggestCharts', [key], {});\n",
              "      } catch (error) {\n",
              "        console.error('Error during call to suggestCharts:', error);\n",
              "      }\n",
              "      quickchartButtonEl.classList.remove('colab-df-spinner');\n",
              "      quickchartButtonEl.classList.add('colab-df-quickchart-complete');\n",
              "    }\n",
              "    (() => {\n",
              "      let quickchartButtonEl =\n",
              "        document.querySelector('#df-e41d8bd3-9aed-4cc7-8b4a-d9df5e9ba3bd button');\n",
              "      quickchartButtonEl.style.display =\n",
              "        google.colab.kernel.accessAllowed ? 'block' : 'none';\n",
              "    })();\n",
              "  </script>\n",
              "</div>\n",
              "\n",
              "  <div id=\"id_f37c359c-aba2-4feb-8861-cf8e351427b6\">\n",
              "    <style>\n",
              "      .colab-df-generate {\n",
              "        background-color: #E8F0FE;\n",
              "        border: none;\n",
              "        border-radius: 50%;\n",
              "        cursor: pointer;\n",
              "        display: none;\n",
              "        fill: #1967D2;\n",
              "        height: 32px;\n",
              "        padding: 0 0 0 0;\n",
              "        width: 32px;\n",
              "      }\n",
              "\n",
              "      .colab-df-generate:hover {\n",
              "        background-color: #E2EBFA;\n",
              "        box-shadow: 0px 1px 2px rgba(60, 64, 67, 0.3), 0px 1px 3px 1px rgba(60, 64, 67, 0.15);\n",
              "        fill: #174EA6;\n",
              "      }\n",
              "\n",
              "      [theme=dark] .colab-df-generate {\n",
              "        background-color: #3B4455;\n",
              "        fill: #D2E3FC;\n",
              "      }\n",
              "\n",
              "      [theme=dark] .colab-df-generate:hover {\n",
              "        background-color: #434B5C;\n",
              "        box-shadow: 0px 1px 3px 1px rgba(0, 0, 0, 0.15);\n",
              "        filter: drop-shadow(0px 1px 2px rgba(0, 0, 0, 0.3));\n",
              "        fill: #FFFFFF;\n",
              "      }\n",
              "    </style>\n",
              "    <button class=\"colab-df-generate\" onclick=\"generateWithVariable('corpus')\"\n",
              "            title=\"Generate code using this dataframe.\"\n",
              "            style=\"display:none;\">\n",
              "\n",
              "  <svg xmlns=\"http://www.w3.org/2000/svg\" height=\"24px\"viewBox=\"0 0 24 24\"\n",
              "       width=\"24px\">\n",
              "    <path d=\"M7,19H8.4L18.45,9,17,7.55,7,17.6ZM5,21V16.75L18.45,3.32a2,2,0,0,1,2.83,0l1.4,1.43a1.91,1.91,0,0,1,.58,1.4,1.91,1.91,0,0,1-.58,1.4L9.25,21ZM18.45,9,17,7.55Zm-12,3A5.31,5.31,0,0,0,4.9,8.1,5.31,5.31,0,0,0,1,6.5,5.31,5.31,0,0,0,4.9,4.9,5.31,5.31,0,0,0,6.5,1,5.31,5.31,0,0,0,8.1,4.9,5.31,5.31,0,0,0,12,6.5,5.46,5.46,0,0,0,6.5,12Z\"/>\n",
              "  </svg>\n",
              "    </button>\n",
              "    <script>\n",
              "      (() => {\n",
              "      const buttonEl =\n",
              "        document.querySelector('#id_f37c359c-aba2-4feb-8861-cf8e351427b6 button.colab-df-generate');\n",
              "      buttonEl.style.display =\n",
              "        google.colab.kernel.accessAllowed ? 'block' : 'none';\n",
              "\n",
              "      buttonEl.onclick = () => {\n",
              "        google.colab.notebook.generateWithVariable('corpus');\n",
              "      }\n",
              "      })();\n",
              "    </script>\n",
              "  </div>\n",
              "\n",
              "    </div>\n",
              "  </div>\n"
            ],
            "text/plain": [
              "                                                                                                                                                  comment  \\\n",
              "0      Tunggu episode 5 di Aplikasi dan Youtube Ruangguru pekan depan! Download aplikasi Ruangguru untuk coba soal dan gamesnya 🔥🔥[ https://s.id/cocapp ]   \n",
              "1             Walaupun lulusan SMP tapi Saya ingin Belajar kaya gini, lomba lomba kaya gini bikin saya semngat.\\n\\n\\n\\nApalagi matematika wow hobi banget   \n",
              "2                                                                                              Semoga tahun depan ada yang bagian SMP sih seru kayaknya😹👍   \n",
              "3                                               https://youtube.com/playlist?list=PLDpk-iH-Gr78gzWEq8Xlz5gezNYJuDu4h&si=e7LDc9tkAdOxYHJa\\n\\n\\nCOC Animasi   \n",
              "4                                                   team kenji vs tim shakira gg sih seru banget, either team yang kalah ataupun menang keren-keren semua   \n",
              "...                                                                                                                                                   ...   \n",
              "11509                                                                                                                                   Sangat ku tunggu😫   \n",
              "11510                                                                                                                                                 ❤❤❤   \n",
              "11511                                                                                                                                                 🔥🔥🔥   \n",
              "11512                                                                                                                                               aaaa❤   \n",
              "11513                                                                        Jadi ingin ikutan walau bagian bengong aja juga gapapa🫵🏻😭janji gak kesurupan   \n",
              "\n",
              "                                                                                                      tokens  \\\n",
              "0      [tunggu, episode, aplikasi, youtube, ruangguru, pekan, download, aplikasi, ruangguru, coba, gamesnya]   \n",
              "1                  [lulus, ajar, kayak, lomba, lomba, kayak, bikin, semangat, matematika, wow, hobi, banget]   \n",
              "2                                                                                   [moga, sih, seru, kayak]   \n",
              "3                                                                                             [coc, animasi]   \n",
              "4                    [team, kenji, tim, shakira, sih, seru, banget, either, team, kalah, menang, kerenkeren]   \n",
              "...                                                                                                      ...   \n",
              "11509                                                                                               [tunggu]   \n",
              "11510                                                                                                     []   \n",
              "11511                                                                                                     []   \n",
              "11512                                                                                                     []   \n",
              "11513                                                                          [bengong, gapapajanji, surup]   \n",
              "\n",
              "       polarity_score  polarity  label  \n",
              "0                  -8  negative      0  \n",
              "1                   1  positive      2  \n",
              "2                  -2  negative      0  \n",
              "3                   0   neutral      1  \n",
              "4                  -6  negative      0  \n",
              "...               ...       ...    ...  \n",
              "11509              -1  negative      0  \n",
              "11510               0   neutral      1  \n",
              "11511               0   neutral      1  \n",
              "11512               0   neutral      1  \n",
              "11513              -5  negative      0  \n",
              "\n",
              "[11514 rows x 5 columns]"
            ]
          },
          "execution_count": 34,
          "metadata": {},
          "output_type": "execute_result"
        }
      ],
      "source": [
        "# Encode polarity to numerical label\n",
        "le = LabelEncoder()\n",
        "corpus['label'] = le.fit_transform(corpus['polarity'])\n",
        "corpus"
      ]
    },
    {
      "cell_type": "markdown",
      "metadata": {
        "id": "tn7gFVQl8z7E"
      },
      "source": [
        "## **6. Model Testing**"
      ]
    },
    {
      "cell_type": "markdown",
      "metadata": {
        "id": "7Zj7fmWT9Yys"
      },
      "source": [
        "### **Load Tokenizer**"
      ]
    },
    {
      "cell_type": "code",
      "execution_count": 44,
      "metadata": {
        "id": "omzvIUvp8qLL"
      },
      "outputs": [],
      "source": [
        "url = 'https://github.com/kevinadityaikhsan/ruangguru-sentiment-analysis-classification/raw/main/model/tokenizer.pkl'\n",
        "filename = wget.download(url)"
      ]
    },
    {
      "cell_type": "code",
      "execution_count": 45,
      "metadata": {
        "id": "x3C8tMma9sby"
      },
      "outputs": [],
      "source": [
        "tokenizer = joblib.load('tokenizer.pkl')"
      ]
    },
    {
      "cell_type": "markdown",
      "metadata": {
        "id": "0YB6XEJm9W7u"
      },
      "source": [
        "### **Load Model**"
      ]
    },
    {
      "cell_type": "code",
      "execution_count": 38,
      "metadata": {
        "id": "0kVedY2F8Np3"
      },
      "outputs": [],
      "source": [
        "url = 'https://github.com/kevinadityaikhsan/ruangguru-sentiment-analysis-classification/raw/main/model/WE_3C_GAPLBN.keras'\n",
        "filename = wget.download(url)"
      ]
    },
    {
      "cell_type": "code",
      "execution_count": 46,
      "metadata": {
        "id": "8jRdFZ8t9xZO"
      },
      "outputs": [],
      "source": [
        "WE_3C_GAPLBN = tf.keras.models.load_model('WE_3C_GAPLBN.keras')"
      ]
    },
    {
      "cell_type": "markdown",
      "metadata": {
        "id": "_HDzjzoV-TfY"
      },
      "source": [
        "### **Test Model**"
      ]
    },
    {
      "cell_type": "code",
      "execution_count": 47,
      "metadata": {
        "colab": {
          "base_uri": "https://localhost:8080/",
          "height": 666
        },
        "id": "FAFaz6J0-Qkb",
        "outputId": "e25e3658-d8f1-4a5d-ae1c-0f0858df194f"
      },
      "outputs": [
        {
          "name": "stdout",
          "output_type": "stream",
          "text": [
            "\u001b[1m360/360\u001b[0m \u001b[32m━━━━━━━━━━━━━━━━━━━━\u001b[0m\u001b[37m\u001b[0m \u001b[1m2s\u001b[0m 5ms/step\n",
            "Accuracy: 0.93581726593712\n",
            "              precision    recall  f1-score   support\n",
            "\n",
            "           0       0.95      0.95      0.95      5006\n",
            "           1       0.92      0.91      0.91      3338\n",
            "           2       0.93      0.94      0.94      3170\n",
            "\n",
            "    accuracy                           0.94     11514\n",
            "   macro avg       0.93      0.93      0.93     11514\n",
            "weighted avg       0.94      0.94      0.94     11514\n",
            "\n"
          ]
        },
        {
          "data": {
            "image/png": "[encoded data removed]",
            "text/plain": [
              "<Figure size 640x480 with 2 Axes>"
            ]
          },
          "metadata": {},
          "output_type": "display_data"
        }
      ],
      "source": [
        "# Preprocess the new dataset\n",
        "test_sequences = tokenizer.texts_to_sequences(corpus['tokens'])\n",
        "test_padded = pad_sequences(test_sequences, maxlen=128)\n",
        "\n",
        "# Make predictions\n",
        "predictions = WE_3C_GAPLBN.predict(test_padded)\n",
        "predicted_labels = np.argmax(predictions, axis=1)\n",
        "\n",
        "# Decode predicted labels\n",
        "predicted_polarities = le.inverse_transform(predicted_labels)\n",
        "\n",
        "# Add predicted polarities to the corpus\n",
        "corpus['predicted_polarity'] = predicted_polarities\n",
        "\n",
        "# Evaluate the model\n",
        "accuracy = accuracy_score(corpus['label'], predicted_labels)\n",
        "print(\"Accuracy:\", accuracy)\n",
        "\n",
        "print(classification_report(corpus['label'], predicted_labels))\n",
        "\n",
        "cm = confusion_matrix(corpus['label'], predicted_labels)\n",
        "sns.heatmap(cm, annot=True, fmt='d')\n",
        "plt.xlabel('Predicted')\n",
        "plt.ylabel('Truth')\n",
        "plt.show()\n"
      ]
    },
    {
      "cell_type": "markdown",
      "metadata": {
        "id": "r4MSyJLh-kOd"
      },
      "source": [
        "## **7. Conclusion**\n",
        "\n",
        "That's a wrap! Our sentiment analysis and text classification model, trained on episodes 1-3, maintained a remarkable 93.6% accuracy, even when tested on the unseen episode 4.  This demonstrates the model's effectiveness and potential for real-world applications.  Feel free to dive into the code and experiment further!"
      ]
    }
  ],
  "metadata": {
    "colab": {
      "provenance": []
    },
    "kernelspec": {
      "display_name": "Python 3",
      "name": "python3"
    },
    "language_info": {
      "name": "python"
    }
  },
  "nbformat": 4,
  "nbformat_minor": 0
}
